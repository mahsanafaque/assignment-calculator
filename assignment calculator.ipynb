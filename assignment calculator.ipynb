{
 "cells": [
  {
   "cell_type": "code",
   "execution_count": 5,
   "metadata": {},
   "outputs": [
    {
     "name": "stdout",
     "output_type": "stream",
     "text": [
      "Enter first value 5\n",
      "Enter second value 4\n",
      "Enter Operator+\n",
      "9 answer\n"
     ]
    }
   ],
   "source": [
    "val1 = input('Enter first value ')\n",
    "val2 = input('Enter second value ')\n",
    "operator = input('Enter Operator')\n",
    "\n",
    "val1 = int(val1)\n",
    "val2= int(val2)\n",
    "\n",
    "if operator == '+':\n",
    "    val = val1 + val2\n",
    "    print(val,'answer')\n",
    "elif operator == '-':\n",
    "    val = val1 - val2\n",
    "    print (val,'answer')\n",
    "elif operator == '*':\n",
    "    val = val1 * val2\n",
    "    print (val,'answer')\n",
    "elif operator == '/':\n",
    "    val = val1 / val2\n",
    "    print (val,'answer')\n",
    "else :\n",
    "    print('Enter Corrrect Operator')"
   ]
  },
  {
   "cell_type": "code",
   "execution_count": 6,
   "metadata": {},
   "outputs": [
    {
     "name": "stdout",
     "output_type": "stream",
     "text": [
      "Enter first value 27\n",
      "Enter second value 5\n",
      "Enter Operator-\n",
      "22 answer\n"
     ]
    }
   ],
   "source": [
    "val1 = input('Enter first value ')\n",
    "val2 = input('Enter second value ')\n",
    "operator = input('Enter Operator')\n",
    "\n",
    "val1 = int(val1)\n",
    "val2= int(val2)\n",
    "\n",
    "if operator == '+':\n",
    "    val = val1 + val2\n",
    "    print(val,'answer')\n",
    "elif operator == '-':\n",
    "    val = val1 - val2\n",
    "    print (val,'answer')\n",
    "elif operator == '*':\n",
    "    val = val1 * val2\n",
    "    print (val,'answer')\n",
    "elif operator == '/':\n",
    "    val = val1 / val2\n",
    "    print (val,'answer')\n",
    "else :\n",
    "    print('Enter Corrrect Operator')"
   ]
  },
  {
   "cell_type": "code",
   "execution_count": 7,
   "metadata": {},
   "outputs": [
    {
     "name": "stdout",
     "output_type": "stream",
     "text": [
      "Enter first value 33\n",
      "Enter second value 22\n",
      "Enter Operator*\n",
      "726 answer\n"
     ]
    }
   ],
   "source": [
    "val1 = input('Enter first value ')\n",
    "val2 = input('Enter second value ')\n",
    "operator = input('Enter Operator')\n",
    "\n",
    "val1 = int(val1)\n",
    "val2= int(val2)\n",
    "\n",
    "if operator == '+':\n",
    "    val = val1 + val2\n",
    "    print(val,'answer')\n",
    "elif operator == '-':\n",
    "    val = val1 - val2\n",
    "    print (val,'answer')\n",
    "elif operator == '*':\n",
    "    val = val1 * val2\n",
    "    print (val,'answer')\n",
    "elif operator == '/':\n",
    "    val = val1 / val2\n",
    "    print (val,'answer')\n",
    "else :\n",
    "    print('Enter Corrrect Operator')"
   ]
  },
  {
   "cell_type": "code",
   "execution_count": 8,
   "metadata": {},
   "outputs": [
    {
     "name": "stdout",
     "output_type": "stream",
     "text": [
      "Enter first value 75\n",
      "Enter second value 25\n",
      "Enter Operator/\n",
      "3.0 answer\n"
     ]
    }
   ],
   "source": [
    "val1 = input('Enter first value ')\n",
    "val2 = input('Enter second value ')\n",
    "operator = input('Enter Operator')\n",
    "\n",
    "val1 = int(val1)\n",
    "val2= int(val2)\n",
    "\n",
    "if operator == '+':\n",
    "    val = val1 + val2\n",
    "    print(val,'answer')\n",
    "elif operator == '-':\n",
    "    val = val1 - val2\n",
    "    print (val,'answer')\n",
    "elif operator == '*':\n",
    "    val = val1 * val2\n",
    "    print (val,'answer')\n",
    "elif operator == '/':\n",
    "    val = val1 / val2\n",
    "    print (val,'answer')\n",
    "else :\n",
    "    print('Enter Corrrect Operator')"
   ]
  },
  {
   "cell_type": "code",
   "execution_count": null,
   "metadata": {},
   "outputs": [],
   "source": []
  }
 ],
 "metadata": {
  "kernelspec": {
   "display_name": "Python 3",
   "language": "python",
   "name": "python3"
  },
  "language_info": {
   "codemirror_mode": {
    "name": "ipython",
    "version": 3
   },
   "file_extension": ".py",
   "mimetype": "text/x-python",
   "name": "python",
   "nbconvert_exporter": "python",
   "pygments_lexer": "ipython3",
   "version": "3.7.4"
  }
 },
 "nbformat": 4,
 "nbformat_minor": 2
}
